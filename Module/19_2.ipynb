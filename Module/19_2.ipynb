{
  "cells": [
    {
      "cell_type": "code",
      "execution_count": 3,
      "id": "3a22f505",
      "metadata": {
        "id": "3a22f505"
      },
      "outputs": [],
      "source": [
        "# Import our dependencies\n",
        "import pandas as pd\n",
        "import matplotlib as plt\n",
        "from sklearn.datasets import make_blobs\n",
        "import sklearn as skl\n",
        "import tensorflow as tf"
      ]
    },
    {
      "cell_type": "code",
      "execution_count": 4,
      "id": "df76eb23",
      "metadata": {
        "colab": {
          "base_uri": "https://localhost:8080/",
          "height": 276
        },
        "id": "df76eb23",
        "outputId": "f8d4c892-0ba2-4bda-c824-4c6a1fec1fc0"
      },
      "outputs": [
        {
          "output_type": "execute_result",
          "data": {
            "text/plain": [
              "<matplotlib.axes._subplots.AxesSubplot at 0x7ff993bd39d0>"
            ]
          },
          "metadata": {},
          "execution_count": 4
        },
        {
          "output_type": "display_data",
          "data": {
            "text/plain": [
              "<Figure size 432x288 with 2 Axes>"
            ],
            "image/png": "[encoded data removed]"
          },
          "metadata": {
            "needs_background": "light"
          }
        }
      ],
      "source": [
        "# Generate dummy dataset\n",
        "X, y = make_blobs(n_samples=1000, centers=2, n_features=2, random_state=78)\n",
        "\n",
        "# Creating a DataFrame with the dummy data\n",
        "df = pd.DataFrame(X, columns=[\"Feature 1\", \"Feature 2\"])\n",
        "df[\"Target\"] = y\n",
        "\n",
        "# Plotting the dummy data\n",
        "df.plot.scatter(x=\"Feature 1\", y=\"Feature 2\", c=\"Target\", colormap=\"winter\")"
      ]
    },
    {
      "cell_type": "code",
      "source": [
        "# Use sklearn to split dataset\n",
        "from sklearn.model_selection import train_test_split\n",
        "X_train, X_test, y_train, y_test = train_test_split(X, y, random_state=78)"
      ],
      "metadata": {
        "id": "FGgDbcihL2x_"
      },
      "id": "FGgDbcihL2x_",
      "execution_count": 5,
      "outputs": []
    },
    {
      "cell_type": "code",
      "source": [
        "# Create scaler instance\n",
        "X_scaler = skl.preprocessing.StandardScaler()\n",
        "\n",
        "# Fit the scaler\n",
        "X_scaler.fit(X_train)\n",
        "\n",
        "# Scale the data\n",
        "X_train_scaled = X_scaler.transform(X_train)\n",
        "X_test_scaled = X_scaler.transform(X_test)"
      ],
      "metadata": {
        "id": "BoryQY3cL6CK"
      },
      "id": "BoryQY3cL6CK",
      "execution_count": 6,
      "outputs": []
    },
    {
      "cell_type": "code",
      "source": [
        "# Create the Keras Sequential model\n",
        "nn_model = tf.keras.models.Sequential()"
      ],
      "metadata": {
        "id": "JfnmU7xlL9l7"
      },
      "id": "JfnmU7xlL9l7",
      "execution_count": 7,
      "outputs": []
    },
    {
      "cell_type": "code",
      "source": [
        "# Add our first Dense layer, including the input layer\n",
        "nn_model.add(tf.keras.layers.Dense(units=1, activation=\"relu\", input_dim=2))"
      ],
      "metadata": {
        "id": "RiRbOCQrMD_a"
      },
      "id": "RiRbOCQrMD_a",
      "execution_count": 8,
      "outputs": []
    },
    {
      "cell_type": "code",
      "source": [
        "# Add the output layer that uses a probability activation function\n",
        "nn_model.add(tf.keras.layers.Dense(units=1, activation=\"sigmoid\"))"
      ],
      "metadata": {
        "id": "kUVcTdNpMGsX"
      },
      "id": "kUVcTdNpMGsX",
      "execution_count": 9,
      "outputs": []
    },
    {
      "cell_type": "code",
      "source": [
        "# Check the structure of the Sequential model\n",
        "nn_model.summary()"
      ],
      "metadata": {
        "colab": {
          "base_uri": "https://localhost:8080/"
        },
        "id": "D5GuPWusMIPX",
        "outputId": "fb4cfbef-122f-4cc0-84d0-7eae2083147a"
      },
      "id": "D5GuPWusMIPX",
      "execution_count": 10,
      "outputs": [
        {
          "output_type": "stream",
          "name": "stdout",
          "text": [
            "Model: \"sequential\"\n",
            "_________________________________________________________________\n",
            " Layer (type)                Output Shape              Param #   \n",
            "=================================================================\n",
            " dense (Dense)               (None, 1)                 3         \n",
            "                                                                 \n",
            " dense_1 (Dense)             (None, 1)                 2         \n",
            "                                                                 \n",
            "=================================================================\n",
            "Total params: 5\n",
            "Trainable params: 5\n",
            "Non-trainable params: 0\n",
            "_________________________________________________________________\n"
          ]
        }
      ]
    },
    {
      "cell_type": "code",
      "source": [
        "# Compile the Sequential model together and customize metrics\n",
        "nn_model.compile(loss=\"binary_crossentropy\", optimizer=\"adam\", metrics=[\"accuracy\"])"
      ],
      "metadata": {
        "id": "rKc7sVUmMbHI"
      },
      "id": "rKc7sVUmMbHI",
      "execution_count": 11,
      "outputs": []
    },
    {
      "cell_type": "code",
      "source": [
        "# Fit the model to the training data\n",
        "fit_model = nn_model.fit(X_train_scaled, y_train, epochs=100)"
      ],
      "metadata": {
        "colab": {
          "base_uri": "https://localhost:8080/"
        },
        "id": "q2DHJ7izMcfE",
        "outputId": "bf67ae18-7ae2-4615-e54b-86f95238bf3e"
      },
      "id": "q2DHJ7izMcfE",
      "execution_count": 12,
      "outputs": [
        {
          "output_type": "stream",
          "name": "stdout",
          "text": [
            "Epoch 1/100\n",
            "24/24 [==============================] - 1s 1ms/step - loss: 0.7092 - accuracy: 0.4520\n",
            "Epoch 2/100\n",
            "24/24 [==============================] - 0s 1ms/step - loss: 0.7011 - accuracy: 0.4827\n",
            "Epoch 3/100\n",
            "24/24 [==============================] - 0s 1ms/step - loss: 0.6942 - accuracy: 0.5107\n",
            "Epoch 4/100\n",
            "24/24 [==============================] - 0s 1ms/step - loss: 0.6880 - accuracy: 0.5413\n",
            "Epoch 5/100\n",
            "24/24 [==============================] - 0s 1ms/step - loss: 0.6820 - accuracy: 0.5733\n",
            "Epoch 6/100\n",
            "24/24 [==============================] - 0s 1ms/step - loss: 0.6760 - accuracy: 0.5987\n",
            "Epoch 7/100\n",
            "24/24 [==============================] - 0s 1ms/step - loss: 0.6696 - accuracy: 0.6213\n",
            "Epoch 8/100\n",
            "24/24 [==============================] - 0s 1ms/step - loss: 0.6627 - accuracy: 0.6440\n",
            "Epoch 9/100\n",
            "24/24 [==============================] - 0s 996us/step - loss: 0.6550 - accuracy: 0.6653\n",
            "Epoch 10/100\n",
            "24/24 [==============================] - 0s 1ms/step - loss: 0.6466 - accuracy: 0.6907\n",
            "Epoch 11/100\n",
            "24/24 [==============================] - 0s 1ms/step - loss: 0.6369 - accuracy: 0.7053\n",
            "Epoch 12/100\n",
            "24/24 [==============================] - 0s 1ms/step - loss: 0.6267 - accuracy: 0.7267\n",
            "Epoch 13/100\n",
            "24/24 [==============================] - 0s 1ms/step - loss: 0.6153 - accuracy: 0.7440\n",
            "Epoch 14/100\n",
            "24/24 [==============================] - 0s 1ms/step - loss: 0.6031 - accuracy: 0.7653\n",
            "Epoch 15/100\n",
            "24/24 [==============================] - 0s 1ms/step - loss: 0.5904 - accuracy: 0.7773\n",
            "Epoch 16/100\n",
            "24/24 [==============================] - 0s 1ms/step - loss: 0.5775 - accuracy: 0.7960\n",
            "Epoch 17/100\n",
            "24/24 [==============================] - 0s 1ms/step - loss: 0.5639 - accuracy: 0.8107\n",
            "Epoch 18/100\n",
            "24/24 [==============================] - 0s 1ms/step - loss: 0.5503 - accuracy: 0.8227\n",
            "Epoch 19/100\n",
            "24/24 [==============================] - 0s 1ms/step - loss: 0.5368 - accuracy: 0.8320\n",
            "Epoch 20/100\n",
            "24/24 [==============================] - 0s 1ms/step - loss: 0.5232 - accuracy: 0.8387\n",
            "Epoch 21/100\n",
            "24/24 [==============================] - 0s 1ms/step - loss: 0.5099 - accuracy: 0.8520\n",
            "Epoch 22/100\n",
            "24/24 [==============================] - 0s 1ms/step - loss: 0.4966 - accuracy: 0.8653\n",
            "Epoch 23/100\n",
            "24/24 [==============================] - 0s 1ms/step - loss: 0.4837 - accuracy: 0.8733\n",
            "Epoch 24/100\n",
            "24/24 [==============================] - 0s 1ms/step - loss: 0.4710 - accuracy: 0.8787\n",
            "Epoch 25/100\n",
            "24/24 [==============================] - 0s 1ms/step - loss: 0.4586 - accuracy: 0.8893\n",
            "Epoch 26/100\n",
            "24/24 [==============================] - 0s 1ms/step - loss: 0.4467 - accuracy: 0.8960\n",
            "Epoch 27/100\n",
            "24/24 [==============================] - 0s 1ms/step - loss: 0.4350 - accuracy: 0.9013\n",
            "Epoch 28/100\n",
            "24/24 [==============================] - 0s 1ms/step - loss: 0.4237 - accuracy: 0.9053\n",
            "Epoch 29/100\n",
            "24/24 [==============================] - 0s 1ms/step - loss: 0.4128 - accuracy: 0.9120\n",
            "Epoch 30/100\n",
            "24/24 [==============================] - 0s 1ms/step - loss: 0.4022 - accuracy: 0.9133\n",
            "Epoch 31/100\n",
            "24/24 [==============================] - 0s 1ms/step - loss: 0.3919 - accuracy: 0.9160\n",
            "Epoch 32/100\n",
            "24/24 [==============================] - 0s 1ms/step - loss: 0.3818 - accuracy: 0.9213\n",
            "Epoch 33/100\n",
            "24/24 [==============================] - 0s 1ms/step - loss: 0.3719 - accuracy: 0.9240\n",
            "Epoch 34/100\n",
            "24/24 [==============================] - 0s 1ms/step - loss: 0.3623 - accuracy: 0.9267\n",
            "Epoch 35/100\n",
            "24/24 [==============================] - 0s 1ms/step - loss: 0.3529 - accuracy: 0.9347\n",
            "Epoch 36/100\n",
            "24/24 [==============================] - 0s 1ms/step - loss: 0.3438 - accuracy: 0.9373\n",
            "Epoch 37/100\n",
            "24/24 [==============================] - 0s 1ms/step - loss: 0.3351 - accuracy: 0.9400\n",
            "Epoch 38/100\n",
            "24/24 [==============================] - 0s 1ms/step - loss: 0.3266 - accuracy: 0.9413\n",
            "Epoch 39/100\n",
            "24/24 [==============================] - 0s 1ms/step - loss: 0.3184 - accuracy: 0.9453\n",
            "Epoch 40/100\n",
            "24/24 [==============================] - 0s 1ms/step - loss: 0.3105 - accuracy: 0.9533\n",
            "Epoch 41/100\n",
            "24/24 [==============================] - 0s 1ms/step - loss: 0.3028 - accuracy: 0.9573\n",
            "Epoch 42/100\n",
            "24/24 [==============================] - 0s 2ms/step - loss: 0.2953 - accuracy: 0.9600\n",
            "Epoch 43/100\n",
            "24/24 [==============================] - 0s 1ms/step - loss: 0.2881 - accuracy: 0.9600\n",
            "Epoch 44/100\n",
            "24/24 [==============================] - 0s 1ms/step - loss: 0.2811 - accuracy: 0.9627\n",
            "Epoch 45/100\n",
            "24/24 [==============================] - 0s 1ms/step - loss: 0.2743 - accuracy: 0.9640\n",
            "Epoch 46/100\n",
            "24/24 [==============================] - 0s 1ms/step - loss: 0.2678 - accuracy: 0.9667\n",
            "Epoch 47/100\n",
            "24/24 [==============================] - 0s 1ms/step - loss: 0.2614 - accuracy: 0.9680\n",
            "Epoch 48/100\n",
            "24/24 [==============================] - 0s 1ms/step - loss: 0.2552 - accuracy: 0.9693\n",
            "Epoch 49/100\n",
            "24/24 [==============================] - 0s 1ms/step - loss: 0.2491 - accuracy: 0.9720\n",
            "Epoch 50/100\n",
            "24/24 [==============================] - 0s 1ms/step - loss: 0.2432 - accuracy: 0.9733\n",
            "Epoch 51/100\n",
            "24/24 [==============================] - 0s 1ms/step - loss: 0.2373 - accuracy: 0.9760\n",
            "Epoch 52/100\n",
            "24/24 [==============================] - 0s 1ms/step - loss: 0.2317 - accuracy: 0.9760\n",
            "Epoch 53/100\n",
            "24/24 [==============================] - 0s 1ms/step - loss: 0.2262 - accuracy: 0.9760\n",
            "Epoch 54/100\n",
            "24/24 [==============================] - 0s 1ms/step - loss: 0.2209 - accuracy: 0.9773\n",
            "Epoch 55/100\n",
            "24/24 [==============================] - 0s 1ms/step - loss: 0.2157 - accuracy: 0.9787\n",
            "Epoch 56/100\n",
            "24/24 [==============================] - 0s 1ms/step - loss: 0.2106 - accuracy: 0.9813\n",
            "Epoch 57/100\n",
            "24/24 [==============================] - 0s 1ms/step - loss: 0.2056 - accuracy: 0.9840\n",
            "Epoch 58/100\n",
            "24/24 [==============================] - 0s 1ms/step - loss: 0.2008 - accuracy: 0.9840\n",
            "Epoch 59/100\n",
            "24/24 [==============================] - 0s 1ms/step - loss: 0.1961 - accuracy: 0.9840\n",
            "Epoch 60/100\n",
            "24/24 [==============================] - 0s 1ms/step - loss: 0.1916 - accuracy: 0.9840\n",
            "Epoch 61/100\n",
            "24/24 [==============================] - 0s 1ms/step - loss: 0.1872 - accuracy: 0.9853\n",
            "Epoch 62/100\n",
            "24/24 [==============================] - 0s 1ms/step - loss: 0.1830 - accuracy: 0.9853\n",
            "Epoch 63/100\n",
            "24/24 [==============================] - 0s 1ms/step - loss: 0.1789 - accuracy: 0.9853\n",
            "Epoch 64/100\n",
            "24/24 [==============================] - 0s 1ms/step - loss: 0.1749 - accuracy: 0.9853\n",
            "Epoch 65/100\n",
            "24/24 [==============================] - 0s 1ms/step - loss: 0.1710 - accuracy: 0.9867\n",
            "Epoch 66/100\n",
            "24/24 [==============================] - 0s 1ms/step - loss: 0.1672 - accuracy: 0.9867\n",
            "Epoch 67/100\n",
            "24/24 [==============================] - 0s 1ms/step - loss: 0.1635 - accuracy: 0.9867\n",
            "Epoch 68/100\n",
            "24/24 [==============================] - 0s 1ms/step - loss: 0.1599 - accuracy: 0.9867\n",
            "Epoch 69/100\n",
            "24/24 [==============================] - 0s 1ms/step - loss: 0.1564 - accuracy: 0.9880\n",
            "Epoch 70/100\n",
            "24/24 [==============================] - 0s 1ms/step - loss: 0.1530 - accuracy: 0.9880\n",
            "Epoch 71/100\n",
            "24/24 [==============================] - 0s 1ms/step - loss: 0.1497 - accuracy: 0.9880\n",
            "Epoch 72/100\n",
            "24/24 [==============================] - 0s 1ms/step - loss: 0.1466 - accuracy: 0.9893\n",
            "Epoch 73/100\n",
            "24/24 [==============================] - 0s 1ms/step - loss: 0.1434 - accuracy: 0.9907\n",
            "Epoch 74/100\n",
            "24/24 [==============================] - 0s 1ms/step - loss: 0.1404 - accuracy: 0.9907\n",
            "Epoch 75/100\n",
            "24/24 [==============================] - 0s 1ms/step - loss: 0.1375 - accuracy: 0.9933\n",
            "Epoch 76/100\n",
            "24/24 [==============================] - 0s 1ms/step - loss: 0.1346 - accuracy: 0.9947\n",
            "Epoch 77/100\n",
            "24/24 [==============================] - 0s 1ms/step - loss: 0.1319 - accuracy: 0.9947\n",
            "Epoch 78/100\n",
            "24/24 [==============================] - 0s 1ms/step - loss: 0.1292 - accuracy: 0.9947\n",
            "Epoch 79/100\n",
            "24/24 [==============================] - 0s 1ms/step - loss: 0.1265 - accuracy: 0.9947\n",
            "Epoch 80/100\n",
            "24/24 [==============================] - 0s 1ms/step - loss: 0.1239 - accuracy: 0.9960\n",
            "Epoch 81/100\n",
            "24/24 [==============================] - 0s 1ms/step - loss: 0.1214 - accuracy: 0.9960\n",
            "Epoch 82/100\n",
            "24/24 [==============================] - 0s 1ms/step - loss: 0.1190 - accuracy: 0.9960\n",
            "Epoch 83/100\n",
            "24/24 [==============================] - 0s 1ms/step - loss: 0.1166 - accuracy: 0.9973\n",
            "Epoch 84/100\n",
            "24/24 [==============================] - 0s 1ms/step - loss: 0.1143 - accuracy: 0.9973\n",
            "Epoch 85/100\n",
            "24/24 [==============================] - 0s 1ms/step - loss: 0.1121 - accuracy: 0.9973\n",
            "Epoch 86/100\n",
            "24/24 [==============================] - 0s 1ms/step - loss: 0.1099 - accuracy: 0.9973\n",
            "Epoch 87/100\n",
            "24/24 [==============================] - 0s 1ms/step - loss: 0.1078 - accuracy: 0.9973\n",
            "Epoch 88/100\n",
            "24/24 [==============================] - 0s 1ms/step - loss: 0.1057 - accuracy: 0.9973\n",
            "Epoch 89/100\n",
            "24/24 [==============================] - 0s 1ms/step - loss: 0.1038 - accuracy: 0.9987\n",
            "Epoch 90/100\n",
            "24/24 [==============================] - 0s 1ms/step - loss: 0.1018 - accuracy: 0.9987\n",
            "Epoch 91/100\n",
            "24/24 [==============================] - 0s 1ms/step - loss: 0.0999 - accuracy: 0.9987\n",
            "Epoch 92/100\n",
            "24/24 [==============================] - 0s 1ms/step - loss: 0.0981 - accuracy: 1.0000\n",
            "Epoch 93/100\n",
            "24/24 [==============================] - 0s 1ms/step - loss: 0.0963 - accuracy: 1.0000\n",
            "Epoch 94/100\n",
            "24/24 [==============================] - 0s 1ms/step - loss: 0.0946 - accuracy: 1.0000\n",
            "Epoch 95/100\n",
            "24/24 [==============================] - 0s 1ms/step - loss: 0.0928 - accuracy: 1.0000\n",
            "Epoch 96/100\n",
            "24/24 [==============================] - 0s 1ms/step - loss: 0.0912 - accuracy: 1.0000\n",
            "Epoch 97/100\n",
            "24/24 [==============================] - 0s 1ms/step - loss: 0.0895 - accuracy: 1.0000\n",
            "Epoch 98/100\n",
            "24/24 [==============================] - 0s 1ms/step - loss: 0.0880 - accuracy: 1.0000\n",
            "Epoch 99/100\n",
            "24/24 [==============================] - 0s 1ms/step - loss: 0.0865 - accuracy: 1.0000\n",
            "Epoch 100/100\n",
            "24/24 [==============================] - 0s 1ms/step - loss: 0.0850 - accuracy: 1.0000\n"
          ]
        }
      ]
    },
    {
      "cell_type": "code",
      "source": [
        "# Create a DataFrame containing training history\n",
        "history_df = pd.DataFrame(fit_model.history, index=range(1,len(fit_model.history[\"loss\"])+1))\n",
        "\n",
        "# Plot the loss\n",
        "history_df.plot(y=\"loss\")"
      ],
      "metadata": {
        "colab": {
          "base_uri": "https://localhost:8080/",
          "height": 283
        },
        "id": "X7v1yV-bNxZE",
        "outputId": "6704a0cf-d6a3-4165-e194-1ac54edf8e5e"
      },
      "id": "X7v1yV-bNxZE",
      "execution_count": 13,
      "outputs": [
        {
          "output_type": "execute_result",
          "data": {
            "text/plain": [
              "<matplotlib.axes._subplots.AxesSubplot at 0x7ff9934c3cd0>"
            ]
          },
          "metadata": {},
          "execution_count": 13
        },
        {
          "output_type": "display_data",
          "data": {
            "text/plain": [
              "<Figure size 432x288 with 1 Axes>"
            ],
            "image/png": "[encoded data removed]"
          },
          "metadata": {
            "needs_background": "light"
          }
        }
      ]
    },
    {
      "cell_type": "code",
      "source": [
        "# Plot the accuracy\n",
        "history_df.plot(y=\"accuracy\")"
      ],
      "metadata": {
        "colab": {
          "base_uri": "https://localhost:8080/",
          "height": 283
        },
        "id": "S7nB0vcSN0wa",
        "outputId": "4670d5a6-4ec6-4a43-a025-6f98d433b412"
      },
      "id": "S7nB0vcSN0wa",
      "execution_count": 14,
      "outputs": [
        {
          "output_type": "execute_result",
          "data": {
            "text/plain": [
              "<matplotlib.axes._subplots.AxesSubplot at 0x7ff98dda5990>"
            ]
          },
          "metadata": {},
          "execution_count": 14
        },
        {
          "output_type": "display_data",
          "data": {
            "text/plain": [
              "<Figure size 432x288 with 1 Axes>"
            ],
            "image/png": "[encoded data removed]"
          },
          "metadata": {
            "needs_background": "light"
          }
        }
      ]
    },
    {
      "cell_type": "code",
      "source": [
        "# Evaluate the model using the test data\n",
        "model_loss, model_accuracy = nn_model.evaluate(X_test_scaled,y_test,verbose=2)\n",
        "print(f\"Loss: {model_loss}, Accuracy: {model_accuracy}\")"
      ],
      "metadata": {
        "colab": {
          "base_uri": "https://localhost:8080/"
        },
        "id": "z97vPqWGOExf",
        "outputId": "dba08c73-c458-4116-dd47-16a4eb9990a9"
      },
      "id": "z97vPqWGOExf",
      "execution_count": 15,
      "outputs": [
        {
          "output_type": "stream",
          "name": "stdout",
          "text": [
            "8/8 - 0s - loss: 0.0787 - accuracy: 1.0000 - 129ms/epoch - 16ms/step\n",
            "Loss: 0.07871943712234497, Accuracy: 1.0\n"
          ]
        }
      ]
    },
    {
      "cell_type": "code",
      "source": [
        "# Predict the classification of a new set of blob data\n",
        "new_X, new_Y = make_blobs(n_samples=10, centers=2, n_features=2, random_state=78)\n",
        "new_X_scaled = X_scaler.transform(new_X)\n",
        "(nn_model.predict(new_X_scaled) > 0.5).astype(\"int32\")"
      ],
      "metadata": {
        "colab": {
          "base_uri": "https://localhost:8080/"
        },
        "id": "NzL70VWvOE0V",
        "outputId": "b81582c7-5cef-47d7-b3ab-495b32108229"
      },
      "id": "NzL70VWvOE0V",
      "execution_count": 16,
      "outputs": [
        {
          "output_type": "execute_result",
          "data": {
            "text/plain": [
              "array([[0],\n",
              "       [1],\n",
              "       [0],\n",
              "       [1],\n",
              "       [0],\n",
              "       [0],\n",
              "       [1],\n",
              "       [1],\n",
              "       [1],\n",
              "       [0]], dtype=int32)"
            ]
          },
          "metadata": {},
          "execution_count": 16
        }
      ]
    },
    {
      "cell_type": "code",
      "source": [
        "from sklearn.datasets import make_moons\n",
        "\n",
        "# Creating dummy nonlinear data\n",
        "X_moons, y_moons = make_moons(n_samples=1000, noise=0.08, random_state=78)\n",
        "\n",
        "# Transforming y_moons to a vertical vector\n",
        "y_moons = y_moons.reshape(-1, 1)\n",
        "\n",
        "# Creating a DataFrame to plot the nonlinear dummy data\n",
        "df_moons = pd.DataFrame(X_moons, columns=[\"Feature 1\", \"Feature 2\"])\n",
        "df_moons[\"Target\"] = y_moons\n",
        "\n",
        "# Plot the nonlinear dummy data\n",
        "df_moons.plot.scatter(x=\"Feature 1\",y=\"Feature 2\", c=\"Target\",colormap=\"winter\")"
      ],
      "metadata": {
        "colab": {
          "base_uri": "https://localhost:8080/",
          "height": 276
        },
        "id": "bueDz5H_OE3W",
        "outputId": "61b50de2-5626-43d3-b883-cd0273b38143"
      },
      "id": "bueDz5H_OE3W",
      "execution_count": 18,
      "outputs": [
        {
          "output_type": "execute_result",
          "data": {
            "text/plain": [
              "<matplotlib.axes._subplots.AxesSubplot at 0x7ff98f558610>"
            ]
          },
          "metadata": {},
          "execution_count": 18
        },
        {
          "output_type": "display_data",
          "data": {
            "text/plain": [
              "<Figure size 432x288 with 2 Axes>"
            ],
            "image/png": "[encoded data removed]"
          },
          "metadata": {
            "needs_background": "light"
          }
        }
      ]
    },
    {
      "cell_type": "code",
      "source": [
        "# Create training and testing sets\n",
        "X_moon_train, X_moon_test, y_moon_train, y_moon_test = train_test_split(\n",
        "    X_moons, y_moons, random_state=78\n",
        ")\n",
        "\n",
        "# Create the scaler instance\n",
        "X_moon_scaler = skl.preprocessing.StandardScaler()\n",
        "\n",
        "# Fit the scaler\n",
        "X_moon_scaler.fit(X_moon_train)\n",
        "\n",
        "# Scale the data\n",
        "X_moon_train_scaled = X_moon_scaler.transform(X_moon_train)\n",
        "X_moon_test_scaled = X_moon_scaler.transform(X_moon_test)"
      ],
      "metadata": {
        "id": "u-lgNpJ1OE6J"
      },
      "id": "u-lgNpJ1OE6J",
      "execution_count": 19,
      "outputs": []
    },
    {
      "cell_type": "code",
      "source": [
        "# Training the model with the nonlinear data\n",
        "model_moon = nn_model.fit(X_moon_train_scaled, y_moon_train, epochs=100, shuffle=True)"
      ],
      "metadata": {
        "colab": {
          "base_uri": "https://localhost:8080/"
        },
        "id": "SPrYGbjQaz-l",
        "outputId": "74d02ae7-3103-4338-c0a1-14be2fb48754"
      },
      "id": "SPrYGbjQaz-l",
      "execution_count": 20,
      "outputs": [
        {
          "output_type": "stream",
          "name": "stdout",
          "text": [
            "Epoch 1/100\n",
            "24/24 [==============================] - 0s 2ms/step - loss: 1.2343 - accuracy: 0.3973\n",
            "Epoch 2/100\n",
            "24/24 [==============================] - 0s 2ms/step - loss: 1.0533 - accuracy: 0.4360\n",
            "Epoch 3/100\n",
            "24/24 [==============================] - 0s 2ms/step - loss: 0.9440 - accuracy: 0.4680\n",
            "Epoch 4/100\n",
            "24/24 [==============================] - 0s 2ms/step - loss: 0.8675 - accuracy: 0.4987\n",
            "Epoch 5/100\n",
            "24/24 [==============================] - 0s 2ms/step - loss: 0.8139 - accuracy: 0.5200\n",
            "Epoch 6/100\n",
            "24/24 [==============================] - 0s 2ms/step - loss: 0.7720 - accuracy: 0.5480\n",
            "Epoch 7/100\n",
            "24/24 [==============================] - 0s 2ms/step - loss: 0.7368 - accuracy: 0.5627\n",
            "Epoch 8/100\n",
            "24/24 [==============================] - 0s 2ms/step - loss: 0.7068 - accuracy: 0.5800\n",
            "Epoch 9/100\n",
            "24/24 [==============================] - 0s 2ms/step - loss: 0.6803 - accuracy: 0.5907\n",
            "Epoch 10/100\n",
            "24/24 [==============================] - 0s 2ms/step - loss: 0.6560 - accuracy: 0.6040\n",
            "Epoch 11/100\n",
            "24/24 [==============================] - 0s 2ms/step - loss: 0.6344 - accuracy: 0.6160\n",
            "Epoch 12/100\n",
            "24/24 [==============================] - 0s 2ms/step - loss: 0.6140 - accuracy: 0.6200\n",
            "Epoch 13/100\n",
            "24/24 [==============================] - 0s 2ms/step - loss: 0.5949 - accuracy: 0.6320\n",
            "Epoch 14/100\n",
            "24/24 [==============================] - 0s 1ms/step - loss: 0.5768 - accuracy: 0.6440\n",
            "Epoch 15/100\n",
            "24/24 [==============================] - 0s 2ms/step - loss: 0.5604 - accuracy: 0.6587\n",
            "Epoch 16/100\n",
            "24/24 [==============================] - 0s 2ms/step - loss: 0.5452 - accuracy: 0.6680\n",
            "Epoch 17/100\n",
            "24/24 [==============================] - 0s 2ms/step - loss: 0.5310 - accuracy: 0.6800\n",
            "Epoch 18/100\n",
            "24/24 [==============================] - 0s 2ms/step - loss: 0.5174 - accuracy: 0.6853\n",
            "Epoch 19/100\n",
            "24/24 [==============================] - 0s 2ms/step - loss: 0.5052 - accuracy: 0.6933\n",
            "Epoch 20/100\n",
            "24/24 [==============================] - 0s 3ms/step - loss: 0.4933 - accuracy: 0.6973\n",
            "Epoch 21/100\n",
            "24/24 [==============================] - 0s 2ms/step - loss: 0.4824 - accuracy: 0.7040\n",
            "Epoch 22/100\n",
            "24/24 [==============================] - 0s 2ms/step - loss: 0.4718 - accuracy: 0.7147\n",
            "Epoch 23/100\n",
            "24/24 [==============================] - 0s 3ms/step - loss: 0.4621 - accuracy: 0.7240\n",
            "Epoch 24/100\n",
            "24/24 [==============================] - 0s 3ms/step - loss: 0.4526 - accuracy: 0.7307\n",
            "Epoch 25/100\n",
            "24/24 [==============================] - 0s 3ms/step - loss: 0.4438 - accuracy: 0.7427\n",
            "Epoch 26/100\n",
            "24/24 [==============================] - 0s 3ms/step - loss: 0.4353 - accuracy: 0.7507\n",
            "Epoch 27/100\n",
            "24/24 [==============================] - 0s 3ms/step - loss: 0.4273 - accuracy: 0.7547\n",
            "Epoch 28/100\n",
            "24/24 [==============================] - 0s 3ms/step - loss: 0.4196 - accuracy: 0.7667\n",
            "Epoch 29/100\n",
            "24/24 [==============================] - 0s 2ms/step - loss: 0.4123 - accuracy: 0.7747\n",
            "Epoch 30/100\n",
            "24/24 [==============================] - 0s 2ms/step - loss: 0.4053 - accuracy: 0.7800\n",
            "Epoch 31/100\n",
            "24/24 [==============================] - 0s 2ms/step - loss: 0.3985 - accuracy: 0.7827\n",
            "Epoch 32/100\n",
            "24/24 [==============================] - 0s 3ms/step - loss: 0.3919 - accuracy: 0.7840\n",
            "Epoch 33/100\n",
            "24/24 [==============================] - 0s 4ms/step - loss: 0.3855 - accuracy: 0.7893\n",
            "Epoch 34/100\n",
            "24/24 [==============================] - 0s 3ms/step - loss: 0.3795 - accuracy: 0.7947\n",
            "Epoch 35/100\n",
            "24/24 [==============================] - 0s 2ms/step - loss: 0.3735 - accuracy: 0.7987\n",
            "Epoch 36/100\n",
            "24/24 [==============================] - 0s 4ms/step - loss: 0.3679 - accuracy: 0.8000\n",
            "Epoch 37/100\n",
            "24/24 [==============================] - 0s 3ms/step - loss: 0.3626 - accuracy: 0.8027\n",
            "Epoch 38/100\n",
            "24/24 [==============================] - 0s 3ms/step - loss: 0.3575 - accuracy: 0.8093\n",
            "Epoch 39/100\n",
            "24/24 [==============================] - 0s 3ms/step - loss: 0.3528 - accuracy: 0.8160\n",
            "Epoch 40/100\n",
            "24/24 [==============================] - 0s 4ms/step - loss: 0.3482 - accuracy: 0.8227\n",
            "Epoch 41/100\n",
            "24/24 [==============================] - 0s 2ms/step - loss: 0.3439 - accuracy: 0.8240\n",
            "Epoch 42/100\n",
            "24/24 [==============================] - 0s 3ms/step - loss: 0.3400 - accuracy: 0.8293\n",
            "Epoch 43/100\n",
            "24/24 [==============================] - 0s 3ms/step - loss: 0.3362 - accuracy: 0.8347\n",
            "Epoch 44/100\n",
            "24/24 [==============================] - 0s 3ms/step - loss: 0.3327 - accuracy: 0.8413\n",
            "Epoch 45/100\n",
            "24/24 [==============================] - 0s 2ms/step - loss: 0.3293 - accuracy: 0.8427\n",
            "Epoch 46/100\n",
            "24/24 [==============================] - 0s 2ms/step - loss: 0.3263 - accuracy: 0.8427\n",
            "Epoch 47/100\n",
            "24/24 [==============================] - 0s 2ms/step - loss: 0.3234 - accuracy: 0.8480\n",
            "Epoch 48/100\n",
            "24/24 [==============================] - 0s 3ms/step - loss: 0.3206 - accuracy: 0.8520\n",
            "Epoch 49/100\n",
            "24/24 [==============================] - 0s 4ms/step - loss: 0.3179 - accuracy: 0.8560\n",
            "Epoch 50/100\n",
            "24/24 [==============================] - 0s 3ms/step - loss: 0.3156 - accuracy: 0.8587\n",
            "Epoch 51/100\n",
            "24/24 [==============================] - 0s 3ms/step - loss: 0.3131 - accuracy: 0.8613\n",
            "Epoch 52/100\n",
            "24/24 [==============================] - 0s 5ms/step - loss: 0.3108 - accuracy: 0.8640\n",
            "Epoch 53/100\n",
            "24/24 [==============================] - 0s 2ms/step - loss: 0.3087 - accuracy: 0.8667\n",
            "Epoch 54/100\n",
            "24/24 [==============================] - 0s 2ms/step - loss: 0.3066 - accuracy: 0.8667\n",
            "Epoch 55/100\n",
            "24/24 [==============================] - 0s 4ms/step - loss: 0.3046 - accuracy: 0.8667\n",
            "Epoch 56/100\n",
            "24/24 [==============================] - 0s 2ms/step - loss: 0.3027 - accuracy: 0.8680\n",
            "Epoch 57/100\n",
            "24/24 [==============================] - 0s 2ms/step - loss: 0.3009 - accuracy: 0.8693\n",
            "Epoch 58/100\n",
            "24/24 [==============================] - 0s 2ms/step - loss: 0.2992 - accuracy: 0.8693\n",
            "Epoch 59/100\n",
            "24/24 [==============================] - 0s 2ms/step - loss: 0.2975 - accuracy: 0.8707\n",
            "Epoch 60/100\n",
            "24/24 [==============================] - 0s 3ms/step - loss: 0.2960 - accuracy: 0.8707\n",
            "Epoch 61/100\n",
            "24/24 [==============================] - 0s 2ms/step - loss: 0.2945 - accuracy: 0.8707\n",
            "Epoch 62/100\n",
            "24/24 [==============================] - 0s 3ms/step - loss: 0.2931 - accuracy: 0.8720\n",
            "Epoch 63/100\n",
            "24/24 [==============================] - 0s 4ms/step - loss: 0.2918 - accuracy: 0.8733\n",
            "Epoch 64/100\n",
            "24/24 [==============================] - 0s 2ms/step - loss: 0.2905 - accuracy: 0.8733\n",
            "Epoch 65/100\n",
            "24/24 [==============================] - 0s 2ms/step - loss: 0.2893 - accuracy: 0.8733\n",
            "Epoch 66/100\n",
            "24/24 [==============================] - 0s 2ms/step - loss: 0.2882 - accuracy: 0.8733\n",
            "Epoch 67/100\n",
            "24/24 [==============================] - 0s 3ms/step - loss: 0.2870 - accuracy: 0.8733\n",
            "Epoch 68/100\n",
            "24/24 [==============================] - 0s 2ms/step - loss: 0.2859 - accuracy: 0.8733\n",
            "Epoch 69/100\n",
            "24/24 [==============================] - 0s 2ms/step - loss: 0.2848 - accuracy: 0.8733\n",
            "Epoch 70/100\n",
            "24/24 [==============================] - 0s 3ms/step - loss: 0.2838 - accuracy: 0.8760\n",
            "Epoch 71/100\n",
            "24/24 [==============================] - 0s 3ms/step - loss: 0.2827 - accuracy: 0.8787\n",
            "Epoch 72/100\n",
            "24/24 [==============================] - 0s 3ms/step - loss: 0.2818 - accuracy: 0.8800\n",
            "Epoch 73/100\n",
            "24/24 [==============================] - 0s 2ms/step - loss: 0.2809 - accuracy: 0.8800\n",
            "Epoch 74/100\n",
            "24/24 [==============================] - 0s 4ms/step - loss: 0.2799 - accuracy: 0.8813\n",
            "Epoch 75/100\n",
            "24/24 [==============================] - 0s 3ms/step - loss: 0.2791 - accuracy: 0.8840\n",
            "Epoch 76/100\n",
            "24/24 [==============================] - 0s 3ms/step - loss: 0.2783 - accuracy: 0.8840\n",
            "Epoch 77/100\n",
            "24/24 [==============================] - 0s 2ms/step - loss: 0.2774 - accuracy: 0.8853\n",
            "Epoch 78/100\n",
            "24/24 [==============================] - 0s 3ms/step - loss: 0.2767 - accuracy: 0.8853\n",
            "Epoch 79/100\n",
            "24/24 [==============================] - 0s 3ms/step - loss: 0.2759 - accuracy: 0.8867\n",
            "Epoch 80/100\n",
            "24/24 [==============================] - 0s 5ms/step - loss: 0.2753 - accuracy: 0.8880\n",
            "Epoch 81/100\n",
            "24/24 [==============================] - 0s 3ms/step - loss: 0.2745 - accuracy: 0.8893\n",
            "Epoch 82/100\n",
            "24/24 [==============================] - 0s 5ms/step - loss: 0.2738 - accuracy: 0.8893\n",
            "Epoch 83/100\n",
            "24/24 [==============================] - 0s 3ms/step - loss: 0.2731 - accuracy: 0.8907\n",
            "Epoch 84/100\n",
            "24/24 [==============================] - 0s 3ms/step - loss: 0.2724 - accuracy: 0.8893\n",
            "Epoch 85/100\n",
            "24/24 [==============================] - 0s 4ms/step - loss: 0.2718 - accuracy: 0.8907\n",
            "Epoch 86/100\n",
            "24/24 [==============================] - 0s 6ms/step - loss: 0.2712 - accuracy: 0.8920\n",
            "Epoch 87/100\n",
            "24/24 [==============================] - 0s 5ms/step - loss: 0.2706 - accuracy: 0.8920\n",
            "Epoch 88/100\n",
            "24/24 [==============================] - 0s 3ms/step - loss: 0.2702 - accuracy: 0.8920\n",
            "Epoch 89/100\n",
            "24/24 [==============================] - 0s 4ms/step - loss: 0.2696 - accuracy: 0.8933\n",
            "Epoch 90/100\n",
            "24/24 [==============================] - 0s 4ms/step - loss: 0.2690 - accuracy: 0.8933\n",
            "Epoch 91/100\n",
            "24/24 [==============================] - 0s 3ms/step - loss: 0.2685 - accuracy: 0.8933\n",
            "Epoch 92/100\n",
            "24/24 [==============================] - 0s 4ms/step - loss: 0.2680 - accuracy: 0.8933\n",
            "Epoch 93/100\n",
            "24/24 [==============================] - 0s 2ms/step - loss: 0.2676 - accuracy: 0.8933\n",
            "Epoch 94/100\n",
            "24/24 [==============================] - 0s 1ms/step - loss: 0.2671 - accuracy: 0.8933\n",
            "Epoch 95/100\n",
            "24/24 [==============================] - 0s 1ms/step - loss: 0.2667 - accuracy: 0.8933\n",
            "Epoch 96/100\n",
            "24/24 [==============================] - 0s 1ms/step - loss: 0.2663 - accuracy: 0.8933\n",
            "Epoch 97/100\n",
            "24/24 [==============================] - 0s 1ms/step - loss: 0.2658 - accuracy: 0.8933\n",
            "Epoch 98/100\n",
            "24/24 [==============================] - 0s 1ms/step - loss: 0.2654 - accuracy: 0.8933\n",
            "Epoch 99/100\n",
            "24/24 [==============================] - 0s 3ms/step - loss: 0.2651 - accuracy: 0.8920\n",
            "Epoch 100/100\n",
            "24/24 [==============================] - 0s 3ms/step - loss: 0.2647 - accuracy: 0.8933\n"
          ]
        }
      ]
    },
    {
      "cell_type": "code",
      "source": [
        "# Create a DataFrame containing training history\n",
        "history_df = pd.DataFrame(model_moon.history, index=range(1,len(model_moon.history[\"loss\"])+1))\n",
        "\n",
        "# Plot the loss\n",
        "history_df.plot(y=\"loss\")"
      ],
      "metadata": {
        "colab": {
          "base_uri": "https://localhost:8080/",
          "height": 283
        },
        "id": "RB2I2ReCa1oV",
        "outputId": "951a81fd-e4ec-4f04-c5bb-f9734e5c09f8"
      },
      "id": "RB2I2ReCa1oV",
      "execution_count": 21,
      "outputs": [
        {
          "output_type": "execute_result",
          "data": {
            "text/plain": [
              "<matplotlib.axes._subplots.AxesSubplot at 0x7ff98f25ea50>"
            ]
          },
          "metadata": {},
          "execution_count": 21
        },
        {
          "output_type": "display_data",
          "data": {
            "text/plain": [
              "<Figure size 432x288 with 1 Axes>"
            ],
            "image/png": "[encoded data removed]"
          },
          "metadata": {
            "needs_background": "light"
          }
        }
      ]
    },
    {
      "cell_type": "code",
      "source": [
        "# Plot the accuracy\n",
        "history_df.plot(y=\"accuracy\")"
      ],
      "metadata": {
        "colab": {
          "base_uri": "https://localhost:8080/",
          "height": 283
        },
        "id": "RKBcivZ6a1rI",
        "outputId": "2cbd5c09-7ea6-4981-b8eb-eb3460e8360b"
      },
      "id": "RKBcivZ6a1rI",
      "execution_count": 22,
      "outputs": [
        {
          "output_type": "execute_result",
          "data": {
            "text/plain": [
              "<matplotlib.axes._subplots.AxesSubplot at 0x7ff98dc6d390>"
            ]
          },
          "metadata": {},
          "execution_count": 22
        },
        {
          "output_type": "display_data",
          "data": {
            "text/plain": [
              "<Figure size 432x288 with 1 Axes>"
            ],
            "image/png": "[encoded data removed]"
          },
          "metadata": {
            "needs_background": "light"
          }
        }
      ]
    },
    {
      "cell_type": "code",
      "source": [
        "# Generate our new Sequential model\n",
        "new_model = tf.keras.models.Sequential()"
      ],
      "metadata": {
        "id": "7RaQdeaQa1ti"
      },
      "id": "7RaQdeaQa1ti",
      "execution_count": 23,
      "outputs": []
    },
    {
      "cell_type": "code",
      "source": [
        "# Add the input and hidden layer\n",
        "number_inputs = 2\n",
        "number_hidden_nodes = 6\n",
        "\n",
        "new_model.add(tf.keras.layers.Dense(units=number_hidden_nodes, activation=\"relu\", input_dim=number_inputs))\n",
        "\n",
        "# Add the output layer that uses a probability activation function\n",
        "new_model.add(tf.keras.layers.Dense(units=1, activation=\"sigmoid\"))"
      ],
      "metadata": {
        "id": "B96Uf3lua1wB"
      },
      "id": "B96Uf3lua1wB",
      "execution_count": 24,
      "outputs": []
    },
    {
      "cell_type": "code",
      "source": [
        "# Compile the Sequential model together and customize metrics\n",
        "new_model.compile(loss=\"binary_crossentropy\", optimizer=\"adam\", metrics=[\"accuracy\"])\n",
        "\n",
        "# Fit the model to the training data\n",
        "new_fit_model = new_model.fit(X_moon_train_scaled, y_moon_train, epochs=100, shuffle=True)"
      ],
      "metadata": {
        "colab": {
          "base_uri": "https://localhost:8080/"
        },
        "id": "yHM-NFu5a1yn",
        "outputId": "a6efca22-526d-4782-aa69-7215c53a6575"
      },
      "id": "yHM-NFu5a1yn",
      "execution_count": 25,
      "outputs": [
        {
          "output_type": "stream",
          "name": "stdout",
          "text": [
            "Epoch 1/100\n",
            "24/24 [==============================] - 0s 1ms/step - loss: 0.7765 - accuracy: 0.5507\n",
            "Epoch 2/100\n",
            "24/24 [==============================] - 0s 1ms/step - loss: 0.7281 - accuracy: 0.5573\n",
            "Epoch 3/100\n",
            "24/24 [==============================] - 0s 1ms/step - loss: 0.6823 - accuracy: 0.5693\n",
            "Epoch 4/100\n",
            "24/24 [==============================] - 0s 2ms/step - loss: 0.6401 - accuracy: 0.5933\n",
            "Epoch 5/100\n",
            "24/24 [==============================] - 0s 1ms/step - loss: 0.6001 - accuracy: 0.6160\n",
            "Epoch 6/100\n",
            "24/24 [==============================] - 0s 1ms/step - loss: 0.5626 - accuracy: 0.6520\n",
            "Epoch 7/100\n",
            "24/24 [==============================] - 0s 1ms/step - loss: 0.5273 - accuracy: 0.7080\n",
            "Epoch 8/100\n",
            "24/24 [==============================] - 0s 1ms/step - loss: 0.4959 - accuracy: 0.7160\n",
            "Epoch 9/100\n",
            "24/24 [==============================] - 0s 1ms/step - loss: 0.4656 - accuracy: 0.7800\n",
            "Epoch 10/100\n",
            "24/24 [==============================] - 0s 1ms/step - loss: 0.4384 - accuracy: 0.8453\n",
            "Epoch 11/100\n",
            "24/24 [==============================] - 0s 1ms/step - loss: 0.4144 - accuracy: 0.8853\n",
            "Epoch 12/100\n",
            "24/24 [==============================] - 0s 1ms/step - loss: 0.3918 - accuracy: 0.8893\n",
            "Epoch 13/100\n",
            "24/24 [==============================] - 0s 1ms/step - loss: 0.3729 - accuracy: 0.8893\n",
            "Epoch 14/100\n",
            "24/24 [==============================] - 0s 1ms/step - loss: 0.3555 - accuracy: 0.8893\n",
            "Epoch 15/100\n",
            "24/24 [==============================] - 0s 1ms/step - loss: 0.3409 - accuracy: 0.8880\n",
            "Epoch 16/100\n",
            "24/24 [==============================] - 0s 1ms/step - loss: 0.3281 - accuracy: 0.8880\n",
            "Epoch 17/100\n",
            "24/24 [==============================] - 0s 1ms/step - loss: 0.3171 - accuracy: 0.8880\n",
            "Epoch 18/100\n",
            "24/24 [==============================] - 0s 1ms/step - loss: 0.3078 - accuracy: 0.8880\n",
            "Epoch 19/100\n",
            "24/24 [==============================] - 0s 1ms/step - loss: 0.2994 - accuracy: 0.8880\n",
            "Epoch 20/100\n",
            "24/24 [==============================] - 0s 1ms/step - loss: 0.2921 - accuracy: 0.8907\n",
            "Epoch 21/100\n",
            "24/24 [==============================] - 0s 1ms/step - loss: 0.2859 - accuracy: 0.8907\n",
            "Epoch 22/100\n",
            "24/24 [==============================] - 0s 2ms/step - loss: 0.2804 - accuracy: 0.8920\n",
            "Epoch 23/100\n",
            "24/24 [==============================] - 0s 1ms/step - loss: 0.2756 - accuracy: 0.8920\n",
            "Epoch 24/100\n",
            "24/24 [==============================] - 0s 1ms/step - loss: 0.2713 - accuracy: 0.8933\n",
            "Epoch 25/100\n",
            "24/24 [==============================] - 0s 2ms/step - loss: 0.2675 - accuracy: 0.8973\n",
            "Epoch 26/100\n",
            "24/24 [==============================] - 0s 2ms/step - loss: 0.2640 - accuracy: 0.8987\n",
            "Epoch 27/100\n",
            "24/24 [==============================] - 0s 2ms/step - loss: 0.2608 - accuracy: 0.8987\n",
            "Epoch 28/100\n",
            "24/24 [==============================] - 0s 1ms/step - loss: 0.2577 - accuracy: 0.9000\n",
            "Epoch 29/100\n",
            "24/24 [==============================] - 0s 2ms/step - loss: 0.2550 - accuracy: 0.9000\n",
            "Epoch 30/100\n",
            "24/24 [==============================] - 0s 1ms/step - loss: 0.2526 - accuracy: 0.9013\n",
            "Epoch 31/100\n",
            "24/24 [==============================] - 0s 1ms/step - loss: 0.2502 - accuracy: 0.9013\n",
            "Epoch 32/100\n",
            "24/24 [==============================] - 0s 2ms/step - loss: 0.2480 - accuracy: 0.9013\n",
            "Epoch 33/100\n",
            "24/24 [==============================] - 0s 1ms/step - loss: 0.2460 - accuracy: 0.9013\n",
            "Epoch 34/100\n",
            "24/24 [==============================] - 0s 1ms/step - loss: 0.2440 - accuracy: 0.9013\n",
            "Epoch 35/100\n",
            "24/24 [==============================] - 0s 1ms/step - loss: 0.2422 - accuracy: 0.9013\n",
            "Epoch 36/100\n",
            "24/24 [==============================] - 0s 2ms/step - loss: 0.2405 - accuracy: 0.9013\n",
            "Epoch 37/100\n",
            "24/24 [==============================] - 0s 2ms/step - loss: 0.2388 - accuracy: 0.9013\n",
            "Epoch 38/100\n",
            "24/24 [==============================] - 0s 2ms/step - loss: 0.2373 - accuracy: 0.9027\n",
            "Epoch 39/100\n",
            "24/24 [==============================] - 0s 1ms/step - loss: 0.2357 - accuracy: 0.9027\n",
            "Epoch 40/100\n",
            "24/24 [==============================] - 0s 1ms/step - loss: 0.2341 - accuracy: 0.9027\n",
            "Epoch 41/100\n",
            "24/24 [==============================] - 0s 1ms/step - loss: 0.2328 - accuracy: 0.9027\n",
            "Epoch 42/100\n",
            "24/24 [==============================] - 0s 1ms/step - loss: 0.2313 - accuracy: 0.9027\n",
            "Epoch 43/100\n",
            "24/24 [==============================] - 0s 1ms/step - loss: 0.2299 - accuracy: 0.9027\n",
            "Epoch 44/100\n",
            "24/24 [==============================] - 0s 1ms/step - loss: 0.2285 - accuracy: 0.9027\n",
            "Epoch 45/100\n",
            "24/24 [==============================] - 0s 1ms/step - loss: 0.2271 - accuracy: 0.9053\n",
            "Epoch 46/100\n",
            "24/24 [==============================] - 0s 2ms/step - loss: 0.2258 - accuracy: 0.9053\n",
            "Epoch 47/100\n",
            "24/24 [==============================] - 0s 1ms/step - loss: 0.2244 - accuracy: 0.9053\n",
            "Epoch 48/100\n",
            "24/24 [==============================] - 0s 1ms/step - loss: 0.2232 - accuracy: 0.9067\n",
            "Epoch 49/100\n",
            "24/24 [==============================] - 0s 1ms/step - loss: 0.2218 - accuracy: 0.9093\n",
            "Epoch 50/100\n",
            "24/24 [==============================] - 0s 1ms/step - loss: 0.2204 - accuracy: 0.9107\n",
            "Epoch 51/100\n",
            "24/24 [==============================] - 0s 1ms/step - loss: 0.2191 - accuracy: 0.9120\n",
            "Epoch 52/100\n",
            "24/24 [==============================] - 0s 1ms/step - loss: 0.2179 - accuracy: 0.9107\n",
            "Epoch 53/100\n",
            "24/24 [==============================] - 0s 1ms/step - loss: 0.2163 - accuracy: 0.9120\n",
            "Epoch 54/100\n",
            "24/24 [==============================] - 0s 1ms/step - loss: 0.2150 - accuracy: 0.9133\n",
            "Epoch 55/100\n",
            "24/24 [==============================] - 0s 2ms/step - loss: 0.2138 - accuracy: 0.9133\n",
            "Epoch 56/100\n",
            "24/24 [==============================] - 0s 2ms/step - loss: 0.2124 - accuracy: 0.9133\n",
            "Epoch 57/100\n",
            "24/24 [==============================] - 0s 1ms/step - loss: 0.2111 - accuracy: 0.9133\n",
            "Epoch 58/100\n",
            "24/24 [==============================] - 0s 2ms/step - loss: 0.2099 - accuracy: 0.9147\n",
            "Epoch 59/100\n",
            "24/24 [==============================] - 0s 1ms/step - loss: 0.2084 - accuracy: 0.9160\n",
            "Epoch 60/100\n",
            "24/24 [==============================] - 0s 1ms/step - loss: 0.2071 - accuracy: 0.9160\n",
            "Epoch 61/100\n",
            "24/24 [==============================] - 0s 2ms/step - loss: 0.2058 - accuracy: 0.9173\n",
            "Epoch 62/100\n",
            "24/24 [==============================] - 0s 1ms/step - loss: 0.2044 - accuracy: 0.9173\n",
            "Epoch 63/100\n",
            "24/24 [==============================] - 0s 1ms/step - loss: 0.2029 - accuracy: 0.9173\n",
            "Epoch 64/100\n",
            "24/24 [==============================] - 0s 1ms/step - loss: 0.2017 - accuracy: 0.9173\n",
            "Epoch 65/100\n",
            "24/24 [==============================] - 0s 1ms/step - loss: 0.2002 - accuracy: 0.9173\n",
            "Epoch 66/100\n",
            "24/24 [==============================] - 0s 1ms/step - loss: 0.1988 - accuracy: 0.9173\n",
            "Epoch 67/100\n",
            "24/24 [==============================] - 0s 1ms/step - loss: 0.1974 - accuracy: 0.9213\n",
            "Epoch 68/100\n",
            "24/24 [==============================] - 0s 1ms/step - loss: 0.1960 - accuracy: 0.9213\n",
            "Epoch 69/100\n",
            "24/24 [==============================] - 0s 1ms/step - loss: 0.1946 - accuracy: 0.9213\n",
            "Epoch 70/100\n",
            "24/24 [==============================] - 0s 1ms/step - loss: 0.1933 - accuracy: 0.9213\n",
            "Epoch 71/100\n",
            "24/24 [==============================] - 0s 1ms/step - loss: 0.1918 - accuracy: 0.9227\n",
            "Epoch 72/100\n",
            "24/24 [==============================] - 0s 1ms/step - loss: 0.1903 - accuracy: 0.9240\n",
            "Epoch 73/100\n",
            "24/24 [==============================] - 0s 1ms/step - loss: 0.1890 - accuracy: 0.9240\n",
            "Epoch 74/100\n",
            "24/24 [==============================] - 0s 2ms/step - loss: 0.1875 - accuracy: 0.9240\n",
            "Epoch 75/100\n",
            "24/24 [==============================] - 0s 1ms/step - loss: 0.1859 - accuracy: 0.9240\n",
            "Epoch 76/100\n",
            "24/24 [==============================] - 0s 1ms/step - loss: 0.1846 - accuracy: 0.9240\n",
            "Epoch 77/100\n",
            "24/24 [==============================] - 0s 1ms/step - loss: 0.1831 - accuracy: 0.9240\n",
            "Epoch 78/100\n",
            "24/24 [==============================] - 0s 1ms/step - loss: 0.1820 - accuracy: 0.9267\n",
            "Epoch 79/100\n",
            "24/24 [==============================] - 0s 1ms/step - loss: 0.1802 - accuracy: 0.9267\n",
            "Epoch 80/100\n",
            "24/24 [==============================] - 0s 1ms/step - loss: 0.1788 - accuracy: 0.9253\n",
            "Epoch 81/100\n",
            "24/24 [==============================] - 0s 1ms/step - loss: 0.1774 - accuracy: 0.9280\n",
            "Epoch 82/100\n",
            "24/24 [==============================] - 0s 1ms/step - loss: 0.1758 - accuracy: 0.9280\n",
            "Epoch 83/100\n",
            "24/24 [==============================] - 0s 1ms/step - loss: 0.1743 - accuracy: 0.9280\n",
            "Epoch 84/100\n",
            "24/24 [==============================] - 0s 1ms/step - loss: 0.1729 - accuracy: 0.9280\n",
            "Epoch 85/100\n",
            "24/24 [==============================] - 0s 1ms/step - loss: 0.1714 - accuracy: 0.9280\n",
            "Epoch 86/100\n",
            "24/24 [==============================] - 0s 1ms/step - loss: 0.1698 - accuracy: 0.9280\n",
            "Epoch 87/100\n",
            "24/24 [==============================] - 0s 1ms/step - loss: 0.1684 - accuracy: 0.9280\n",
            "Epoch 88/100\n",
            "24/24 [==============================] - 0s 2ms/step - loss: 0.1669 - accuracy: 0.9293\n",
            "Epoch 89/100\n",
            "24/24 [==============================] - 0s 1ms/step - loss: 0.1655 - accuracy: 0.9293\n",
            "Epoch 90/100\n",
            "24/24 [==============================] - 0s 1ms/step - loss: 0.1640 - accuracy: 0.9293\n",
            "Epoch 91/100\n",
            "24/24 [==============================] - 0s 2ms/step - loss: 0.1626 - accuracy: 0.9293\n",
            "Epoch 92/100\n",
            "24/24 [==============================] - 0s 1ms/step - loss: 0.1611 - accuracy: 0.9293\n",
            "Epoch 93/100\n",
            "24/24 [==============================] - 0s 1ms/step - loss: 0.1596 - accuracy: 0.9307\n",
            "Epoch 94/100\n",
            "24/24 [==============================] - 0s 1ms/step - loss: 0.1581 - accuracy: 0.9320\n",
            "Epoch 95/100\n",
            "24/24 [==============================] - 0s 1ms/step - loss: 0.1566 - accuracy: 0.9320\n",
            "Epoch 96/100\n",
            "24/24 [==============================] - 0s 1ms/step - loss: 0.1552 - accuracy: 0.9320\n",
            "Epoch 97/100\n",
            "24/24 [==============================] - 0s 1ms/step - loss: 0.1537 - accuracy: 0.9333\n",
            "Epoch 98/100\n",
            "24/24 [==============================] - 0s 2ms/step - loss: 0.1523 - accuracy: 0.9333\n",
            "Epoch 99/100\n",
            "24/24 [==============================] - 0s 2ms/step - loss: 0.1508 - accuracy: 0.9347\n",
            "Epoch 100/100\n",
            "24/24 [==============================] - 0s 1ms/step - loss: 0.1494 - accuracy: 0.9360\n"
          ]
        }
      ]
    },
    {
      "cell_type": "code",
      "source": [
        ""
      ],
      "metadata": {
        "id": "IXMtShq2a106"
      },
      "id": "IXMtShq2a106",
      "execution_count": null,
      "outputs": []
    }
  ],
  "metadata": {
    "kernelspec": {
      "display_name": "mlenv",
      "language": "python",
      "name": "mlenv"
    },
    "language_info": {
      "codemirror_mode": {
        "name": "ipython",
        "version": 3
      },
      "file_extension": ".py",
      "mimetype": "text/x-python",
      "name": "python",
      "nbconvert_exporter": "python",
      "pygments_lexer": "ipython3",
      "version": "3.7.13"
    },
    "colab": {
      "name": "19.2.ipynb",
      "provenance": [],
      "collapsed_sections": []
    }
  },
  "nbformat": 4,
  "nbformat_minor": 5
}